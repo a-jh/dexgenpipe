{
 "cells": [
  {
   "cell_type": "code",
   "execution_count": null,
   "metadata": {},
   "outputs": [],
   "source": [
    "# Editor : AJ\n",
    "\n",
    "######### EdgeR - R implementation #########\n",
    "\n",
    "# Document and resource used : \n",
    "#\n",
    "#        -Adrian Alexa and Jorg Rahnenfuhrer (2019). topGO: Enrichment Analysis for Gene Ontology\n",
    "#        -Adrian Alexa, Jorg Rahnenfuhrer (2020). Gene set enrichment analysis with topGO\n",
    "#        -Marc Carlson (2019). GO.db: A set of annotation maps describing the entire Gene Ontology.\n",
    "#        -Y. Chen, D. McCarthy, M. Ritchie, M. Robinson, and G. Smyth, “edgeR: \n",
    "#        differential analysis of sequence read count data  User’s Guide,”\n",
    "#        -Defined colMap, ref. https://rpubs.com/aemoore62/TopGo_colMap_Func_Troubleshoot\n",
    "#        -Gene Ontology or KEGG Pathway Analysis ref.\n",
    "#         https://web.mit.edu/~r/current/arch/i386_linux26/lib/R/library/limma/html/goana.html\n",
    "#        -Table of Top GO Terms or Top KEGG Pathways ref.\n",
    "#         https://web.mit.edu/~r/current/arch/i386_linux26/lib/R/library/limma/html/topGO.html\n",
    "#        -AnnotationDb-class: AnnotationDb objects and their progeny, methods etc. ref.\n",
    "#         https://rdrr.io/bioc/AnnotationDbi/man/AnnotationDb-class.html\n",
    "#        -Charity Law, et al. (2018). RNA-seq analysis is easy as 1-2-3 with limma, Glimma and edgeR ref.\n",
    "#         https://www.bioconductor.org/packages/devel/workflows/vignettes/RNAseq123/inst/doc/limmaWorkflow.html\n",
    "#\n",
    "############\n",
    "# purpose :      Differential expression, gene ontology and pathway analysis \n",
    "# parameters :   xlsx file (containing raw counts of the genes), preferred species, ontology domain,\n",
    "#                number of conditions and condition replications, index of the base condition\n",
    "# return value : Differential expression analysis tabels (with and without ontologies and\n",
    "#                pathway informations), Gene ontology analysis tabels, Pathway analysis\n",
    "#                tabels, log-fold change against log-counts per million plots, dispersion\n",
    "#                estimate plot, quasi-likelihood (QL) F-test plot\n",
    "# details :\n",
    "#           - In input data the first column should provide the gene ids and it should be \n",
    "#           ensembl gene id\n",
    "#           - Number of replications for each condition should be the same\n",
    "#           - Species, ontology domain, addrress of the directory which contains the genes' read \n",
    "#           counts, number of conditions (treatments), number of condition replications, and\n",
    "#           index of the base condition should be provided in the section : \n",
    "#           ##  Setting initil Analysis' info  ##\n",
    "\n",
    "############\n"
   ]
  },
  {
   "cell_type": "code",
   "execution_count": null,
   "metadata": {},
   "outputs": [],
   "source": [
    "############################################\n",
    "#      Preparing the environment :\n",
    "############################################"
   ]
  },
  {
   "cell_type": "code",
   "execution_count": null,
   "metadata": {},
   "outputs": [],
   "source": [
    "# Loading needed Libraries\n",
    "\n",
    "libs = c(\"BiocManager\", \"statmod\", \"caret\", \"readxl\", \"ggplot2\", \"stringr\")\n",
    "Bioc_libs = c(\"topGO\",\"Rgraphviz\",\"limma\",\"edgeR\",\"GO.db\",\"AnnotationDbi\")\n",
    "\n",
    "for (i in libs){\n",
    "  if( !is.element(i, .packages(all.available = TRUE)) ) {\n",
    "    install.packages(i)\n",
    "  }\n",
    "  library(i,character.only = TRUE)\n",
    "}\n",
    "\n",
    "for (i in Bioc_libs){\n",
    "  if( !is.element(i, .packages(all.available = TRUE)) ) {\n",
    "    BiocManager::install(i)\n",
    "  }\n",
    "  library(i,character.only = TRUE)\n",
    "}\n"
   ]
  },
  {
   "cell_type": "code",
   "execution_count": null,
   "metadata": {},
   "outputs": [],
   "source": [
    "##  Setting initil Analysis' info  ##\n",
    "#####################################\n",
    "\n",
    "# define the preferred species' name from the names in list_names \n",
    "species = \"fly\"\n",
    "\n",
    "# define the preferred ontology domain\n",
    "ont_domain = \"biological_process\"           #  possible values : \"cellular_component\",\"molecular_function\",\n",
    "                                                                                                                        #\" biological_process\"\n",
    "\n",
    "##   Setting the input data info   ##\n",
    "#####################################\n",
    "\n",
    "# Address of the excel file containing the genes' read counts\n",
    "data_set_addr = \"../../Table S3.xlsx\" \n",
    "\n",
    "# Index or name sheet of the which contain the which contains the genes' read counts \n",
    "# if the spreadsheet contains only one sheet it should be 'NULL'\n",
    "sheet_num = 5 \n",
    "\n",
    "# Defining number of conditions (treatments) except the base condition,\n",
    "# experiment's replications, and index of reference experiment in data set\n",
    "\n",
    "treat_count = 3       # number of conditions\n",
    "replic_count = 3      # number of experiment's replications\n",
    "ref_idx = 4           # index of reference experiment in data set\n",
    "\n",
    "#   Expression analysis thresholds  #\n",
    "#####################################\n",
    "p.value = 0.05       # P-value threshold\n",
    "lfc = 2              # Fold change threshold"
   ]
  },
  {
   "cell_type": "code",
   "execution_count": null,
   "metadata": {},
   "outputs": [],
   "source": [
    "# Creatnig a 'named list' containing annotation mapping for supported species\n",
    "# to be used for downloading prefered database from prefered species\n",
    "#\n",
    "# Supported species : human, mouse, rat, yeast, fly, arabidopsis, zebrafish, worm,\n",
    "# bovine, chicken, canine, pig, rhesus, E coli strain K12 (ecoli_k12), xenopus, anopheles,\n",
    "# anopheles, anopheles, chimp, malaria, E coli strain Sakai (ecoli_sakai) and Myxococcus xanthus DK\n",
    "# (myxococcus)\n",
    "#\n",
    "# ###\n",
    "#\n",
    "# Note : KEGG database contains specific lists for different species of organisms. The genomic \n",
    "#        databases used in here may refer to a different species of the desired organisms\n",
    "#\n",
    "\n",
    "species_db_list <- list(\"org.Hs.eg.db\",\"org.Mm.eg.db\",\"org.Rn.eg.db\",\"org.Sc.sgd.db\",\"org.Dm.eg.db\",\n",
    "                        \"org.At.tair.db\",\"org.Dr.eg.db\",\"org.Ce.eg.db\",\"org.Bt.eg.db\",\"org.Gg.eg.db\",\n",
    "                        \"org.Cf.eg.db\",\"org.Ss.eg.db\",\"org.Mmu.eg.db\",\"org.EcK12.eg.db\",\"org.Xl.eg.db\",\n",
    "                        \"org.Ag.eg.db\",\"org.Pt.eg.db\",\"org.Pf.plasmo.db\",\"org.EcSakai.eg.db\",\"org.Mxanthus.db\")\n",
    "\n",
    "kegg_db_list <- list(\"hsa\",\"mmu\",\"rno\",\"sce\",\"dme\",\"ath\",\"dre\",\"sko\",\"bta\",\"gga\",\n",
    "                     \"cfa\",\"ssc\",\"mcc\",\"ecok\",\"xla\",\"aga\",\"ptr\",\"pfa\",\"ecs\",\"mxa\")\n",
    "\n",
    "list_names <- c(\"human\",\"mouse\",\"rat\",\"yeast\",\"fly\",\"arabidopsis\",\"zebrafish\",\"worm\",\"bovinae\",\"chicken\",\n",
    "                \"canine\",\"pig\",\"rhesus\",\"ecoli_k12\",\"xenopus\",\"anopheles\",\"chimp\",\"malaria\",\"ecoli_sakai\",\n",
    "                \"myxococcus\")\n",
    "\n",
    "names(kegg_db_list) <- list_names\n",
    "names(species_db_list) <- list_names\n",
    "\n",
    "# Creatnig a 'named list' for mapping ontology domain names with TopGO ontology identifier\n",
    "\n",
    "topgo_id <- list(\"CC\",\"MF\",\"BP\")\n",
    "\n",
    "names(topgo_id) <- c(\"cellular_component\",\"molecular_function\",\"biological_process\")"
   ]
  },
  {
   "cell_type": "code",
   "execution_count": null,
   "metadata": {},
   "outputs": [],
   "source": [
    "# Installing the species' required database\n",
    "\n",
    "if (!requireNamespace(species_db_list[[species]], quietly = TRUE))\n",
    "    BiocManager::install(name)\n",
    "\n",
    "library(species_db_list[[species]],character.only = TRUE)\n"
   ]
  },
  {
   "cell_type": "code",
   "execution_count": null,
   "metadata": {},
   "outputs": [],
   "source": [
    "# Creating related directories\n",
    "\n",
    "dir.create(file.path(\"../../Results/\",\"Data_process\"), recursive = TRUE, showWarnings = FALSE)\n",
    "dir.create(file.path(\"../../Results/\",\"Enrichment_tabels\", species), recursive = TRUE, showWarnings = FALSE)\n",
    "dir.create(file.path(\"../../Results/\",\"GO_tabels\", species, ont_domain), recursive = TRUE, showWarnings = FALSE)\n",
    "dir.create(file.path(\"../../Results/\",\"GO_figures\", species, ont_domain), recursive = TRUE, showWarnings = FALSE)\n",
    "dir.create(file.path(\"../../Results/\",\"GO_enrich_terms\", species, ont_domain), recursive = TRUE, showWarnings = FALSE)\n",
    "dir.create(file.path(\"../../Results/\",\"Pathway_enrich\", species), recursive = TRUE, showWarnings = FALSE)"
   ]
  },
  {
   "cell_type": "code",
   "execution_count": null,
   "metadata": {},
   "outputs": [],
   "source": [
    "# Importing genes' read counts \n",
    "\n",
    "raw_df = read_excel(data_set_addr, sheet_num)"
   ]
  },
  {
   "cell_type": "code",
   "execution_count": null,
   "metadata": {},
   "outputs": [],
   "source": [
    "############################################\n",
    "#    Differential expression analysis :\n",
    "############################################"
   ]
  },
  {
   "cell_type": "code",
   "execution_count": null,
   "metadata": {},
   "outputs": [],
   "source": [
    "# Creating genes counts matrix, list of gene names\n",
    "\n",
    "options(java.parameters = \"-Xmx10000m\")\n",
    "genes=raw_df[,1]                            # list of gene names\n",
    "raw_counts = as.matrix(raw_df[,2:(1+((treat_count+1)*replic_count))])       # genes counts matrix\n",
    "row.names(raw_counts) <- unlist(genes)\n",
    "remove(raw_df)"
   ]
  },
  {
   "cell_type": "code",
   "execution_count": null,
   "metadata": {},
   "outputs": [],
   "source": [
    "# Creating groups for edgeR DGEList\n",
    "\n",
    "y = list()\n",
    "group = c()\n",
    "for (idx in 1:(treat_count+1)){\n",
    "    for (idx2 in 1:replic_count){\n",
    "    group <-c(group,idx)\n",
    "    }\n",
    "}"
   ]
  },
  {
   "cell_type": "code",
   "execution_count": null,
   "metadata": {},
   "outputs": [],
   "source": [
    "# Creating edgeR DGEList\n",
    "y <- DGEList(counts=raw_counts, group=group, genes = genes)\n",
    "names(y$genes)[1]<-paste(\"EnsemblGeneID\")\n",
    "\n",
    "remove(raw_counts)\n",
    "remove(genes)"
   ]
  },
  {
   "cell_type": "code",
   "execution_count": null,
   "metadata": {},
   "outputs": [],
   "source": [
    "# Setting reference group as reference_idx\n",
    "\n",
    "y$samples$group <- relevel(y$samples$group, ref=ref_idx)\n",
    "levels(y$samples$group)"
   ]
  },
  {
   "cell_type": "code",
   "execution_count": null,
   "metadata": {},
   "outputs": [],
   "source": [
    "# Defining the design matrix \n",
    "design <- model.matrix(~group, data=y$samples)\n",
    "design"
   ]
  },
  {
   "cell_type": "code",
   "execution_count": null,
   "metadata": {},
   "outputs": [],
   "source": [
    "# Filtering\n",
    "keep <- filterByExpr(y,design)\n",
    "y <- y[keep, , keep.lib.sizes=FALSE]"
   ]
  },
  {
   "cell_type": "code",
   "execution_count": null,
   "metadata": {},
   "outputs": [],
   "source": [
    "# Normalization\n",
    "y <- calcNormFactors(y)\n",
    "#y$samples"
   ]
  },
  {
   "cell_type": "code",
   "execution_count": null,
   "metadata": {},
   "outputs": [],
   "source": [
    "# Initial Data exploration\n",
    "\n",
    "jpeg(paste(\"../../Results/Data_process/initial_data_exploration.jpg\"), width = 800, height = 600)\n",
    "plotMDS(y)\n",
    "dev.off()\n",
    "#plotMDS(y)"
   ]
  },
  {
   "cell_type": "code",
   "execution_count": null,
   "metadata": {},
   "outputs": [],
   "source": [
    "# Estimating dispersions\n",
    "y <- estimateDisp(y, design)\n",
    "#print(y$common.dispersion)"
   ]
  },
  {
   "cell_type": "code",
   "execution_count": null,
   "metadata": {},
   "outputs": [],
   "source": [
    "# Plotting dispersion estimates\n",
    "\n",
    "jpeg(paste(\"../../Results/Data_process/dispersion_estimate.jpg\"), width = 800, height = 600)\n",
    "plotBCV(y)\n",
    "dev.off()\n",
    "#plotBCV(y)"
   ]
  },
  {
   "cell_type": "code",
   "execution_count": null,
   "metadata": {},
   "outputs": [],
   "source": [
    "## Starting Generalized Linear Models (glm) analysis ##\n",
    "#######################################################"
   ]
  },
  {
   "cell_type": "code",
   "execution_count": null,
   "metadata": {},
   "outputs": [],
   "source": [
    "# Quasi-likelihood (QL) F-test\n",
    "\n",
    "#fit <- glmFit(y, design, robust=TRUE) \n",
    "\n",
    "fit <- glmQLFit(y, design, robust=TRUE) \n",
    "\n",
    "# Quasi-likelihood (QL) F-test visualization\n",
    "\n",
    "jpeg(paste(\"../../Results/Data_process/QL_F_test.jpg\"), width = 800, height = 600)\n",
    "plotQLDisp(fit)\n",
    "dev.off()\n",
    "#plotQLDisp(fit)"
   ]
  },
  {
   "cell_type": "code",
   "execution_count": null,
   "metadata": {},
   "outputs": [],
   "source": [
    "# Differential Expression test\n",
    "\n",
    "qlf = list()\n",
    "reg_res = list()    # regulation results\n",
    "FT_res = list()     # FTest results\n",
    "\n",
    "for (idx in 1:treat_count){\n",
    "    qlf[[idx]] <- glmQLFTest(fit, coef=(idx+1))\n",
    "    reg_res[[idx]] = as.data.frame(decideTests(qlf[[idx]], adjust.method = \"BH\", p.value = p.value, lfc = lfc))\n",
    "    colnames(reg_res[[idx]])[1] <- \"regulation\"\n",
    "    sum = summary(decideTests(qlf[[idx]], adjust.method = \"BH\", p.value = p.value, lfc = lfc))\n",
    "    print(sum)\n",
    "    write.csv(sum[c(1:3),], paste(\"../../Results/Enrichment_tabels/\", species,\n",
    "                                  \"/DE_test_sum_\", idx, \".csv\", sep = \"\"), row.names = TRUE)\n",
    "    FT_res[[idx]] = as.data.frame(topTags(qlf[[idx]], n=nrow(reg_res[[idx]])))\n",
    "    remove(sum)\n",
    "}\n",
    "remove(fit)"
   ]
  },
  {
   "cell_type": "code",
   "execution_count": null,
   "metadata": {},
   "outputs": [],
   "source": [
    "# Plotting fold changes\n",
    "\n",
    "for (idx in 1:treat_count){\n",
    "    jpeg(paste(\"../../Results/Data_process/fold_change_\", idx, \".jpg\", sep = \"\"), width = 800, height = 600)\n",
    "    plotMD(qlf[[idx]],main = \"\")\n",
    "    abline(h=c(-1, 1), col=\"blue\")\n",
    "    dev.off()\n",
    "}"
   ]
  },
  {
   "cell_type": "code",
   "execution_count": null,
   "metadata": {},
   "outputs": [],
   "source": [
    "# Creating differential expression output tables from\n",
    "# regulation and FTest results\n",
    "\n",
    "final_df = list()\n",
    "\n",
    "for (idx in 1:treat_count){\n",
    "    FT_res[[idx]] <- cbind(ID = rownames(FT_res[[idx]]), FT_res[[idx]])\n",
    "    reg_res[[idx]] <- cbind(ID = rownames(reg_res[[idx]]), reg_res[[idx]])\n",
    "    merge_df = merge(reg_res[[idx]], FT_res[[idx]], by = 'ID')\n",
    "    final_df[[idx]] = subset(merge_df, merge_df$regulation!=0 )\n",
    "    remove(merge_df)\n",
    "}\n",
    "remove(FT_res)\n",
    "remove(reg_res)"
   ]
  },
  {
   "cell_type": "code",
   "execution_count": null,
   "metadata": {},
   "outputs": [],
   "source": [
    "############################################\n",
    "#         Gene annotation :\n",
    "############################################"
   ]
  },
  {
   "cell_type": "code",
   "execution_count": null,
   "metadata": {},
   "outputs": [],
   "source": [
    "# Adding Gene annotations to the data set\n",
    "\n",
    "for (idx in 1:treat_count){\n",
    "    keys = dplyr::pull(final_df[[idx]][\"EnsemblGeneID\"])\n",
    "    multiVals <- function(x) paste(x,collapse=\";\")\n",
    "    Symbol <- mapIds(get(species_db_list[[species]]), keys=keys, keytype=\"ENSEMBL\", column=\"SYMBOL\", multiVals=multiVals)\n",
    "    EntrezID <- mapIds(get(species_db_list[[species]]), keys=keys, keytype=\"ENSEMBL\", column=\"ENTREZID\", multiVals=multiVals)\n",
    "    final_df[[idx]][\"symbol\"] <- data.frame(Symbol=Symbol, stringsAsFactors=FALSE)\n",
    "    final_df[[idx]][\"EntrezID\"] <- data.frame(EntrezID=EntrezID, stringsAsFactors=FALSE)\n",
    "}\n"
   ]
  },
  {
   "cell_type": "code",
   "execution_count": null,
   "metadata": {},
   "outputs": [],
   "source": [
    "# Saving the raw differential expression analysis Results\n",
    "\n",
    "for (idx in 1:treat_count){\n",
    "    write.csv(final_df[[idx]], paste(\"../../Results/Enrichment_tabels/\", species,\n",
    "                                     \"/final_df_raw_\", idx, \".csv\", sep = \"\"), row.names = FALSE)\n",
    "}\n"
   ]
  },
  {
   "cell_type": "code",
   "execution_count": null,
   "metadata": {},
   "outputs": [],
   "source": [
    "############################################\n",
    "# Gene ontology (GO) and pathway analysis :\n",
    "############################################"
   ]
  },
  {
   "cell_type": "code",
   "execution_count": null,
   "metadata": {},
   "outputs": [],
   "source": [
    "########################################\n",
    "# Gene ontology (GO) enrichment analysis"
   ]
  },
  {
   "cell_type": "code",
   "execution_count": null,
   "metadata": {},
   "outputs": [],
   "source": [
    "# Data preparation for Gene ontology (GO) enrichment analysis\n",
    "\n",
    "go_list = list()\n",
    "\n",
    "for (idx in 1:treat_count){\n",
    "    go_list[[idx]] = final_df[[idx]][,\"PValue\"]\n",
    "    names(go_list[[idx]]) = final_df[[idx]][,\"symbol\"]\n",
    "}"
   ]
  },
  {
   "cell_type": "code",
   "execution_count": null,
   "metadata": {},
   "outputs": [],
   "source": [
    "# Defining function that returns TRUE/FALSE for p-values<0.05\n",
    "test_func <- function(p_val){ return(p_val < 0.01)}\n",
    "\n",
    "# GO to Symbol mappings Using the defined species' GO annotations database\n",
    "go2sym <- annFUN.org(topgo_id[ont_domain], mapping = species_db_list[[species]], ID = \"symbol\")\n"
   ]
  },
  {
   "cell_type": "code",
   "execution_count": null,
   "metadata": {},
   "outputs": [],
   "source": [
    "# Performing GO enrichment analysis with both classic and\n",
    "# eliminating genes approach using Kolmogorov–Smirnov-like\n",
    "# statistic and aggregating the results in allRes table\n",
    "\n",
    "GOdata = list()\n",
    "go_res_cl_ks = list()\n",
    "go_res_elim_ks = list()\n",
    "allRes = list()\n",
    "\n",
    "for (idx in 1:treat_count){\n",
    "    GOdata[[idx]] <- new(\"topGOdata\", ontology = paste(topgo_id[ont_domain]),\n",
    "                         allGenes = go_list[[idx]], geneSelectionFun=test_func,\n",
    "                         GO2genes=go2sym, nodeSize = 10, annot=annFUN.GO2genes)\n",
    "    go_res_cl_ks[[idx]] <- runTest(GOdata[[idx]], algorithm =\"classic\", statistic = \"ks\")\n",
    "    go_res_elim_ks[[idx]] <- runTest(GOdata[[idx]], algorithm=\"elim\", statistic=\"ks\")\n",
    "    x <- geneData(go_res_elim_ks[[idx]])\n",
    "    allRes[[idx]] = GenTable(GOdata[[idx]], classicKS = go_res_cl_ks[[idx]], elimKS = go_res_elim_ks[[idx]],\n",
    "                      orderBy = \"elimKS\", ranksOf = \"classicKS\", topNodes = x['SigTerms'])\n",
    "}"
   ]
  },
  {
   "cell_type": "code",
   "execution_count": null,
   "metadata": {},
   "outputs": [],
   "source": [
    "# Saving the GO enrichment analysis Results\n",
    "\n",
    "for (idx in 1:treat_count){\n",
    "    write.csv(allRes[[idx]], paste(\"../../Results/GO_tabels/\", species, \"/\", ont_domain, \n",
    "                                   \"/allRes_\", idx, \".csv\", sep = \"\"), row.names = TRUE)\n",
    "    #print(GOdata[[idx]])\n",
    "    #print(go_res_cl_ks[[idx]])\n",
    "    #print(go_res_elim_ks[[idx]])\n",
    "}"
   ]
  },
  {
   "cell_type": "code",
   "execution_count": null,
   "metadata": {},
   "outputs": [],
   "source": [
    "########################################\n",
    "# Visualizing Results of GO enrichment analysis "
   ]
  },
  {
   "cell_type": "code",
   "execution_count": null,
   "metadata": {},
   "outputs": [],
   "source": [
    "# Defining functions for visualization of GO enrichment analysis Results\n",
    "\n",
    "colMap <- function(x) {\n",
    "  .col <- rep(rev(heat.colors(length(unique(x)))), time = table(x))\n",
    "  return(.col[match(1:length(x), order(x))])\n",
    "}\n",
    "\n",
    "# Visualization function\n",
    "visualize <- function(go_res_cl_ks,go_res_elim_ks,GOdata) {\n",
    "    \n",
    "    pValue.classic <- score(go_res_cl_ks)\n",
    "    pValue.elim <- score(go_res_elim_ks)[names(pValue.classic)]\n",
    "    gstat <- termStat(GOdata, names(pValue.classic))\n",
    "    gSize <- gstat$Annotated / max(gstat$Annotated) * 4\n",
    "    gCol <- colMap(gstat$Significant)\n",
    "    \n",
    "    jpeg(paste(\"../../Results/GO_figures/\", species, \"/\", ont_domain,\"/elim_vs_classic_methods_differences_\",\n",
    "               idx, \".jpg\", sep = \"\"), width = 800, height = 600)\n",
    "    plot(pValue.classic, pValue.elim, xlab = \"p-value classic\", ylab = \"p-value elim\",\n",
    "         pch = 19, cex = gSize, col = gCol)\n",
    "    dev.off()\n",
    "    \n",
    "    #showSigOfNodes(GOdata, score(go_res_cl_ks), firstSigNodes = 10, useInfo = 'all')\n",
    "    printGraph(GOdata, go_res_cl_ks, firstSigNodes = 10,\n",
    "               fn.prefix = paste(\"../../Results/GO_figures/\", species, \"/\", ont_domain, \"/classic_method_GO_graph_\",\n",
    "                                 idx, sep = \"\"),useInfo = \"all\", pdfSW = TRUE)\n",
    "    \n",
    "    #showSigOfNodes(GOdata, score(go_res_elim_ks), firstSigNodes = 10, useInfo ='all')\n",
    "    printGraph(GOdata, go_res_elim_ks, firstSigNodes = 10,\n",
    "               fn.prefix = paste(\"../../Results/GO_figures/\", species, \"/\", ont_domain,\"/elim_method_GO_graph_\",\n",
    "                                 idx, sep = \"\"), useInfo = \"all\", pdfSW = TRUE)\n",
    "}"
   ]
  },
  {
   "cell_type": "code",
   "execution_count": null,
   "metadata": {},
   "outputs": [],
   "source": [
    "# Visualizing GO enrichment analysis Results\n",
    "\n",
    "for (idx in 1:treat_count){\n",
    "    visualize(go_res_cl_ks[[idx]],go_res_elim_ks[[idx]],GOdata[[idx]])\n",
    "}"
   ]
  },
  {
   "cell_type": "code",
   "execution_count": null,
   "metadata": {},
   "outputs": [],
   "source": [
    "########################################\n",
    "# Adding GO Terms to the final data sets"
   ]
  },
  {
   "cell_type": "code",
   "execution_count": null,
   "metadata": {},
   "outputs": [],
   "source": [
    "# Creating a map of symbols to GO IDs\n",
    "sym2go = inverseList(go2sym)\n",
    "\n",
    "# Creating a map of symbols to GO terms\n",
    "\n",
    "sym2term = list()\n",
    "\n",
    "for (idx in 1:length(sym2go)){\n",
    "    sym2term[names(sym2go[idx])] <- list(paste(Term(sym2go[[idx]])))\n",
    "}\n",
    "\n",
    "# Creating a matrix from sym2go map\n",
    "sym2term_mx = as.matrix(sym2term)\n"
   ]
  },
  {
   "cell_type": "code",
   "execution_count": null,
   "metadata": {},
   "outputs": [],
   "source": [
    "# Defining the function to add GO Terms to the final data sets\n",
    "\n",
    "term_add <- function(sym2term_mx,df) {\n",
    "    sym2term_df = list()\n",
    "    sym2term_df$a <- names(as.data.frame(sym2term_mx)[,\"V1\"])\n",
    "    sym2term_df$V1 <- as.data.frame(sym2term_mx)\n",
    "    sym2term_df = as.data.frame(sym2term_df)\n",
    "    names(sym2term_df) = c(\"symbol\",\"Go_Term\")\n",
    "    merge_df = merge(df, sym2term_df, by = 'symbol', all.x= TRUE)\n",
    "    return(merge_df)\n",
    "    }\n"
   ]
  },
  {
   "cell_type": "code",
   "execution_count": null,
   "metadata": {},
   "outputs": [],
   "source": [
    "# Adding GO Terms to the final data sets using term_add function\n",
    "\n",
    "for (idx in 1:treat_count){\n",
    "    final_df[[idx]] = term_add(sym2term_mx,final_df[[idx]])\n",
    "}"
   ]
  },
  {
   "cell_type": "code",
   "execution_count": null,
   "metadata": {},
   "outputs": [],
   "source": [
    "########################################\n",
    "# Extraction of significantly enrichmented GO terms"
   ]
  },
  {
   "cell_type": "code",
   "execution_count": null,
   "metadata": {},
   "outputs": [],
   "source": [
    "# Defining functions for extraction of significantly enrichmented\n",
    "# GO terms and saving the significantly enrichmented GO terms\n",
    "\n",
    "go_enrich_func <- function(result,GOdata,idx,sign) {\n",
    "    go_enrich <- GenTable(GOdata, KS=result, orderBy=\"KS\", topNodes=20)\n",
    "    #go_enrich <- go_enrich[go_enrich$KS<0.05,]\n",
    "    go_enrich <- go_enrich[,c(\"GO.ID\",\"Term\",\"KS\")]\n",
    "    go_enrich$KS <- as.numeric(go_enrich$KS)\n",
    "    write.csv(go_enrich, paste(\"../../Results/GO_enrich_terms/\", species, \"/\", ont_domain,\n",
    "                               \"/go_enrich_\", sign, idx, \".csv\", sep = \"\"), row.names = FALSE)\n",
    "    #print(go_enrich)\n",
    "}"
   ]
  },
  {
   "cell_type": "code",
   "execution_count": null,
   "metadata": {},
   "outputs": [],
   "source": [
    "# Extracting the significantly enrichmented GO terms and saving\n",
    "# the significantly enrichmented GO terms using the go_enrich_func\n",
    "\n",
    "for (idx in 1:treat_count){\n",
    "    go_enrich_func(go_res_cl_ks[[idx]],GOdata[[idx]],idx,sign=\"classic\")\n",
    "    go_enrich_func(go_res_elim_ks[[idx]],GOdata[[idx]],idx,sign=\"elim\")\n",
    "}"
   ]
  },
  {
   "cell_type": "code",
   "execution_count": null,
   "metadata": {},
   "outputs": [],
   "source": [
    "############################################\n",
    "# Pathway analysis with online KEGG database\n",
    "############################################"
   ]
  },
  {
   "cell_type": "code",
   "execution_count": null,
   "metadata": {},
   "outputs": [],
   "source": [
    "## Preparing data for pathway analysis with kegg\n",
    "# getting equivalent symbols and entrez-ids\n",
    "\n",
    "#Symbol = list()\n",
    "EntrezID = list()\n",
    "\n",
    "for (idx in 1:treat_count){\n",
    "    keys = dplyr::pull(qlf[[idx]]$genes)\n",
    "    multiVals <- function(x) paste(x,collapse=\";\")\n",
    "    EntrezID[[idx]] <- mapIds(get(species_db_list[[species]]), keys=keys,\n",
    "                              keytype=\"ENSEMBL\", column=\"ENTREZID\", multiVals=multiVals)\n",
    "    #Symbol[[idx]] <- mapIds(get(species_db_list[[species]]), keys=keys,\n",
    "    #                         keytype=\"ENSEMBL\", column=\"SYMBOL\", multiVals=multiVals)\n",
    "    #print(head(EntrezID[[idx]]))\n",
    "}"
   ]
  },
  {
   "cell_type": "code",
   "execution_count": null,
   "metadata": {},
   "outputs": [],
   "source": [
    "## Preparing data for pathway analysis with kegg by\n",
    "# changing index in qlf from from ensembl-id to entrez-id\n",
    "\n",
    "for (idx in 1:treat_count){    \n",
    "    row.names(qlf[[idx]]$coefficients) <- EntrezID[[idx]]\n",
    "    row.names(qlf[[idx]]$fitted.values) <- EntrezID[[idx]]\n",
    "    row.names(qlf[[idx]]$unshrunk.coefficients) <- EntrezID[[idx]]\n",
    "    names(qlf[[idx]]$deviance) <- EntrezID[[idx]]\n",
    "    names(qlf[[idx]]$df.prior) <- EntrezID[[idx]]\n",
    "    names(qlf[[idx]]$var.post) <- EntrezID[[idx]]\n",
    "    qlf[[idx]]$genes <- EntrezID[[idx]]\n",
    "    names(qlf[[idx]]$df.total) <- EntrezID[[idx]]\n",
    "    #print(qlf[[idx]])\n",
    "}"
   ]
  },
  {
   "cell_type": "code",
   "execution_count": null,
   "metadata": {},
   "outputs": [],
   "source": [
    "## Preparing data for pathway analysis with kegg\n",
    "# Changing index in qlf$table from from ensembl-id to entrez-id\n",
    "# and removing duplicate entrez-ids\n",
    "\n",
    "for (idx in 1:treat_count){\n",
    "    qlf[[idx]]$table$EntrezID <- EntrezID[[idx]]\n",
    "    qlf[[idx]]$table <- qlf[[idx]]$table[!duplicated(qlf[[idx]]$table[,\"EntrezID\"]),]\n",
    "    row.names(qlf[[idx]]$table) <- qlf[[idx]]$table$EntrezID\n",
    "    qlf[[idx]]$table$EntrezID <- NULL\n",
    "}"
   ]
  },
  {
   "cell_type": "code",
   "execution_count": null,
   "metadata": {},
   "outputs": [],
   "source": [
    "# performing the pathway analysis with online kegg database :\n",
    "keg = list()\n",
    "\n",
    "for (idx in 1:treat_count){\n",
    "    keg[[idx]] <- kegga(qlf[[idx]], restrict.universe = FALSE, species.KEGG=kegg_db_list[[species]],\n",
    "                        gene.pathway = NULL, pathway.names = NULL, convert=TRUE)\n",
    "}"
   ]
  },
  {
   "cell_type": "code",
   "execution_count": null,
   "metadata": {},
   "outputs": [],
   "source": [
    "# Saving the significantly enrichmented pathways\n",
    "\n",
    "path_number = 20 # number of significantly differentiated pathways to be \n",
    "                 # to be saved (use \"Inf\" to save all the pathways)\n",
    "\n",
    "for (idx in 1:treat_count){\n",
    "    up_path <- topKEGG(keg[[idx]], number=path_number, sort = \"up\")\n",
    "    write.csv(up_path, paste(\"../../Results/Pathway_enrich/\", species,\n",
    "                               \"/up_path_\", idx, \".csv\", sep = \"\"), row.names = FALSE)\n",
    "    \n",
    "    down_path <- topKEGG(keg[[idx]], number=path_number, sort = \"down\")\n",
    "    write.csv(down_path, paste(\"../../Results/Pathway_enrich/\", species,\n",
    "                               \"/down_path_\", idx, \".csv\", sep = \"\"), row.names = FALSE)\n",
    "}"
   ]
  },
  {
   "cell_type": "code",
   "execution_count": null,
   "metadata": {},
   "outputs": [],
   "source": [
    "########################################\n",
    "# Adding pathways to the final data sets"
   ]
  },
  {
   "cell_type": "code",
   "execution_count": null,
   "metadata": {},
   "outputs": [],
   "source": [
    "# Creating the map between keggid of each condition\n",
    "# to pathway as a data frame\n",
    "\n",
    "lkeggid2path = list()\n",
    "\n",
    "for (idx in 1:treat_count){\n",
    "    keggid2path = list()\n",
    "    keggid2path$kegg_id <- rownames(keg[[idx]])\n",
    "    keggid2path$kegg_id <- str_sub(keggid2path$kegg_id, start = -5, end = -1)\n",
    "    keggid2path$pathway <- keg[[idx]]$Pathway\n",
    "    keggid2path = as.data.frame(keggid2path)\n",
    "    lkeggid2path[[idx]] <- keggid2path\n",
    "}"
   ]
  },
  {
   "cell_type": "code",
   "execution_count": null,
   "metadata": {},
   "outputs": [],
   "source": [
    "# Extracting the database containing entrez_ids\n",
    "# and KEGG_ids from the species database\n",
    "\n",
    "species_db_str <- paste(species_db_list[[species]]) \n",
    "str_sub(species_db_str, -3) <- \"\"\n",
    "path_db <- get(paste(species_db_str,'PATH',sep=\"\"))\n",
    "\n",
    "# Get the entrez_ids that are mapped to a KEGG_ids\n",
    "mapped_genes <- mappedkeys(path_db)\n",
    "\n",
    "# Creating a map of entrez_ids to KEGG_ids\n",
    "entrez2keggid <- as.list(path_db[mapped_genes])\n",
    "\n",
    "# inversing the entrez_ids to KEGG_ids map and Creating \n",
    "# the map between kegg_ids to entrez_ids as a data frame\n",
    "\n",
    "keggid2entrez_df <- as.data.frame(as.matrix(inverseList(entrez2keggid)))\n",
    "keggid2entrez_df$kegg_id <- rownames(keggid2entrez_df)\n"
   ]
  },
  {
   "cell_type": "code",
   "execution_count": null,
   "metadata": {},
   "outputs": [],
   "source": [
    "# Creating the map between entrez_ids of each condition to pathways\n",
    "# as a matrix by merging lkeggid2path with keggid2entrez_df\n",
    "\n",
    "entrez2path_mx = list()\n",
    "\n",
    "for (idx in 1:treat_count){\n",
    "    merge_df = merge(lkeggid2path[[idx]], keggid2entrez_df, by = 'kegg_id', all.x= TRUE)\n",
    "    names(merge_df$V1) <- merge_df$pathway\n",
    "    entrez2path_mx[[idx]] <- as.matrix(inverseList(merge_df$V1))\n",
    "}"
   ]
  },
  {
   "cell_type": "code",
   "execution_count": null,
   "metadata": {},
   "outputs": [],
   "source": [
    "# Defining the function to add pathways to the final data sets\n",
    "# using entrez2path_mx matrix\n",
    "\n",
    "path_add <- function(entrez2path_mx,df) {\n",
    "    entrez2kegg_df = list()\n",
    "    entrez2kegg_df$a <- names(as.data.frame(entrez2path_mx)[,\"V1\"])\n",
    "    entrez2kegg_df$V1 <- as.data.frame(entrez2path_mx)\n",
    "    entrez2kegg_df = as.data.frame(entrez2kegg_df)\n",
    "    names(entrez2kegg_df) = c(\"EntrezID\",\"pathways\")\n",
    "    merge_df = merge(final_df[[idx]], entrez2kegg_df, by = 'EntrezID', all.x= TRUE)\n",
    "    merge_df$'NA' <- merge_df$'NA.1' <- NULL\n",
    "    return(merge_df)\n",
    "    }"
   ]
  },
  {
   "cell_type": "code",
   "execution_count": null,
   "metadata": {},
   "outputs": [],
   "source": [
    "# Adding pathways to the final data sets using path_add function\n",
    "\n",
    "for (idx in 1:treat_count){\n",
    "    final_df[[idx]] = path_add(entrez2path_mx[[idx]],final_df[[idx]])\n",
    "}"
   ]
  },
  {
   "cell_type": "code",
   "execution_count": null,
   "metadata": {},
   "outputs": [],
   "source": [
    "# Saving the differential expression analysis Results\n",
    "\n",
    "for (idx in 1:treat_count){\n",
    "    final_df[[idx]]$Go_Term <- vapply(final_df[[idx]]$Go_Term, paste, collapse = \"; \", character(1L))\n",
    "    final_df[[idx]]$pathways <- vapply(final_df[[idx]]$pathways, paste, collapse = \"; \", character(1L))\n",
    "    write.csv(final_df[[idx]], paste(\"../../Results/Enrichment_tabels/\", species,\n",
    "                                     \"/final_df_\", ont_domain,\"_\", idx, \".csv\", sep = \"\"), row.names = FALSE)\n",
    "}\n"
   ]
  },
  {
   "cell_type": "code",
   "execution_count": null,
   "metadata": {},
   "outputs": [],
   "source": [
    "### END"
   ]
  },
  {
   "cell_type": "code",
   "execution_count": null,
   "metadata": {},
   "outputs": [],
   "source": [
    "''' \n",
    "sessionInfo()\n",
    "\n",
    "R version 3.6.3\n",
    "Platform: x86_64-conda_cos6-linux-gnu (64-bit)\n",
    "\n",
    "Matrix products: default\n",
    "BLAS/LAPACK: ../anaconda3/envs/Bioconda/lib/libopenblasp-r0.3.10.so\n",
    "\n",
    "locale:\n",
    " [1] LC_CTYPE=en_US.UTF-8       LC_NUMERIC=C              \n",
    " [3] LC_TIME=en_US.UTF-8        LC_COLLATE=en_US.UTF-8    \n",
    " [5] LC_MONETARY=en_US.UTF-8    LC_MESSAGES=en_US.UTF-8   \n",
    " [7] LC_PAPER=en_US.UTF-8       LC_NAME=C                 \n",
    " [9] LC_ADDRESS=C               LC_TELEPHONE=C            \n",
    "[11] LC_MEASUREMENT=en_US.UTF-8 LC_IDENTIFICATION=C       \n",
    "\n",
    "attached base packages:\n",
    " [1] grid      stats4    parallel  stats     graphics  grDevices utils    \n",
    " [8] datasets  methods   base     \n",
    "\n",
    "other attached packages:\n",
    " [1] org.Dm.eg.db_3.10.0  edgeR_3.28.0         limma_3.42.0        \n",
    " [4] Rgraphviz_2.30.0     topGO_2.37.0         SparseM_1.77        \n",
    " [7] GO.db_3.10.0         AnnotationDbi_1.48.0 IRanges_2.20.0      \n",
    "[10] S4Vectors_0.24.0     Biobase_2.46.0       graph_1.64.0        \n",
    "[13] BiocGenerics_0.32.0  stringr_1.4.0        RColorBrewer_1.1-2  \n",
    "[16] readxl_1.3.1         caret_6.0-83         ggplot2_3.1.1       \n",
    "[19] lattice_0.20-38      statmod_1.4.34       BiocManager_1.30.10 \n",
    "\n",
    "loaded via a namespace (and not attached):\n",
    " [1] bit64_0.9-7        jsonlite_1.6       splines_3.6.3      foreach_1.4.4     \n",
    " [5] prodlim_2018.04.18 assertthat_0.2.1   blob_1.1.1         cellranger_1.1.0  \n",
    " [9] ipred_0.9-8        pillar_1.3.1       RSQLite_2.1.1      glue_1.3.1        \n",
    "[13] uuid_0.1-2         digest_0.6.18      colorspace_1.4-1   recipes_0.1.5     \n",
    "[17] htmltools_0.3.6    Matrix_1.2-17      plyr_1.8.4         timeDate_3043.102 \n",
    "[21] pkgconfig_2.0.2    purrr_0.3.2        scales_1.0.0       gower_0.2.0       \n",
    "[25] lava_1.6.5         tibble_2.1.1       generics_0.0.2     withr_2.1.2       \n",
    "[29] repr_0.19.2        nnet_7.3-12        lazyeval_0.2.2     survival_2.44-1.1 \n",
    "[33] magrittr_1.5       crayon_1.3.4       memoise_1.1.0      evaluate_0.13     \n",
    "[37] nlme_3.1-139       MASS_7.3-51.3      class_7.3-15       tools_3.6.3       \n",
    "[41] data.table_1.12.2  matrixStats_0.54.0 locfit_1.5-9.4     munsell_0.5.0     \n",
    "[45] compiler_3.6.3     rlang_0.3.4        pbdZMQ_0.3-3       iterators_1.0.10  \n",
    "[49] IRkernel_0.8.15    base64enc_0.1-3    gtable_0.3.0       ModelMetrics_1.2.2\n",
    "[53] codetools_0.2-16   DBI_1.0.0          reshape2_1.4.3     R6_2.4.0          \n",
    "[57] lubridate_1.7.4    dplyr_0.8.0.1      bit_1.1-14         stringi_1.4.6     \n",
    "[61] IRdisplay_0.7.0    Rcpp_1.0.1         rpart_4.1-15       tidyselect_0.2.5  \n",
    "'''"
   ]
  }
 ],
 "metadata": {
  "kernelspec": {
   "display_name": "R",
   "language": "R",
   "name": "ir"
  },
  "language_info": {
   "codemirror_mode": "r",
   "file_extension": ".r",
   "mimetype": "text/x-r-source",
   "name": "R",
   "pygments_lexer": "r",
   "version": "3.6.3"
  }
 },
 "nbformat": 4,
 "nbformat_minor": 4
}

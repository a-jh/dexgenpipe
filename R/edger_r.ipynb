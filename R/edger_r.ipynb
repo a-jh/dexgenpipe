{
 "cells": [
  {
   "cell_type": "code",
   "execution_count": null,
   "metadata": {},
   "outputs": [],
   "source": [
    "# Editor : AJ\n",
    "\n",
    "######### EdgeR - R implementation #########\n",
    "\n",
    "# Document and resource used : \n",
    "#\n",
    "#        -Adrian Alexa and Jorg Rahnenfuhrer (2019). topGO: Enrichment Analysis for Gene Ontology\n",
    "#        -Marc Carlson (2019). GO.db: A set of annotation maps describing the entire Gene Ontology.\n",
    "#        -Y. Chen, D. McCarthy, M. Ritchie, M. Robinson, and G. Smyth, “edgeR: \n",
    "#        differential analysis of sequence read count data  User’s Guide,”\n",
    "#        -Defined colMap, ref. https://rpubs.com/aemoore62/TopGo_colMap_Func_Troubleshoot\n",
    "\n",
    "############\n",
    "# purpose : gene ontology and differential expression analysis \n",
    "# parameters : xlsx file (containing raw counts of the genes)\n",
    "# return value : differential expression analysis tabels, Gene ontology analysis tabels\n",
    "#                  log-fold change against log-counts per million plots, dispersion\n",
    "#                  estimate plot, quasi-likelihood (QL) F-test plot\n",
    "# details :\n",
    "#\n",
    "############\n"
   ]
  },
  {
   "cell_type": "code",
   "execution_count": null,
   "metadata": {},
   "outputs": [],
   "source": [
    "# differential expression analysis :"
   ]
  },
  {
   "cell_type": "code",
   "execution_count": null,
   "metadata": {},
   "outputs": [],
   "source": [
    "# Loading needed Libraries\n",
    "\n",
    "library(topGO)\n",
    "library(statmod)\n",
    "library(Rgraphviz)\n",
    "\n",
    "library(limma)\n",
    "library(edgeR)\n",
    "\n",
    "library(readxl)\n",
    "\n",
    "library(GO.db)\n",
    "library(org.Dm.eg.db)\n",
    "library(org.Hs.eg.db)\n"
   ]
  },
  {
   "cell_type": "code",
   "execution_count": null,
   "metadata": {},
   "outputs": [],
   "source": [
    "# Creating related directories\n",
    "\n",
    "dir.create(\"../../Results/Figures/\", showWarnings = FALSE)\n",
    "dir.create(\"../../Results/Enrichment_tabels/\", showWarnings = FALSE)\n",
    "dir.create(\"../../Results/GO_tabels/\", showWarnings = FALSE)\n",
    "dir.create(\"../../Results/GO_figures/\", showWarnings = FALSE)\n",
    "dir.create(\"../../Results/GO_enrich_terms/\", showWarnings = FALSE)"
   ]
  },
  {
   "cell_type": "code",
   "execution_count": null,
   "metadata": {},
   "outputs": [],
   "source": [
    "# Defining number of conditions (treatments), experiment's replications,\n",
    "# and index of reference experiment in data set\n",
    "\n",
    "treat_count = 3\n",
    "replic_count = 3\n",
    "ref_idx = 4"
   ]
  },
  {
   "cell_type": "code",
   "execution_count": null,
   "metadata": {},
   "outputs": [],
   "source": [
    "# Importing genes read counts \n",
    "\n",
    "raw_df = read_excel(\"../../Table S3.xlsx\", 5)"
   ]
  },
  {
   "cell_type": "code",
   "execution_count": null,
   "metadata": {},
   "outputs": [],
   "source": [
    "# creating genes counts matrix, list of gene names\n",
    "\n",
    "options(java.parameters = \"-Xmx10000m\")\n",
    "genes=raw_df[,1]                            # list of gene names\n",
    "raw_counts = data.matrix(raw_df[,2:13])     # genes counts matrix\n",
    "remove(raw_df)"
   ]
  },
  {
   "cell_type": "code",
   "execution_count": null,
   "metadata": {},
   "outputs": [],
   "source": [
    "# Creating groups edgeR DGEList\n",
    "\n",
    "y = list()\n",
    "group = c()\n",
    "for (idx in 1:(treat_count+1)){\n",
    "    for (idx2 in 1:replic_count){\n",
    "    group <-c(group,idx)\n",
    "    }\n",
    "}"
   ]
  },
  {
   "cell_type": "code",
   "execution_count": null,
   "metadata": {},
   "outputs": [],
   "source": [
    "# Creating edgeR DGEList\n",
    "y <- DGEList(counts=raw_counts, group=group, genes=genes)\n",
    "remove(raw_counts)\n",
    "remove(genes)"
   ]
  },
  {
   "cell_type": "code",
   "execution_count": null,
   "metadata": {},
   "outputs": [],
   "source": [
    "# Setting reference group as reference_idx\n",
    "\n",
    "y$samples$group <- relevel(y$samples$group, ref=ref_idx)\n",
    "levels(y$samples$group)"
   ]
  },
  {
   "cell_type": "code",
   "execution_count": null,
   "metadata": {},
   "outputs": [],
   "source": [
    "# defining the design matrix \n",
    "design <- model.matrix(~group, data=y$samples)\n",
    "design"
   ]
  },
  {
   "cell_type": "code",
   "execution_count": null,
   "metadata": {},
   "outputs": [],
   "source": [
    "# Filtering\n",
    "keep <- filterByExpr(y,design)\n",
    "y <- y[keep, , keep.lib.sizes=FALSE]"
   ]
  },
  {
   "cell_type": "code",
   "execution_count": null,
   "metadata": {},
   "outputs": [],
   "source": [
    "# Normalization\n",
    "y <- calcNormFactors(y)\n",
    "#y$samples"
   ]
  },
  {
   "cell_type": "code",
   "execution_count": null,
   "metadata": {},
   "outputs": [],
   "source": [
    "# Initial Data exploration\n",
    "\n",
    "jpeg(paste(\"../../Results/Figures/initial_data_exploration.jpg\"), width = 600, height = 600)\n",
    "plotMDS(y)\n",
    "dev.off()\n",
    "#plotMDS(y)"
   ]
  },
  {
   "cell_type": "code",
   "execution_count": null,
   "metadata": {},
   "outputs": [],
   "source": [
    "# Estimating dispersions\n",
    "y <- estimateDisp(y, design)\n",
    "#print(y$common.dispersion)"
   ]
  },
  {
   "cell_type": "code",
   "execution_count": null,
   "metadata": {},
   "outputs": [],
   "source": [
    "# Plotting dispersion estimates\n",
    "\n",
    "jpeg(paste(\"../../Results/Figures/dispersion_estimate.jpg\"), width = 600, height = 600)\n",
    "plotBCV(y)\n",
    "dev.off()\n",
    "#plotBCV(y)"
   ]
  },
  {
   "cell_type": "raw",
   "metadata": {},
   "source": [
    "# Starting Generalized Linear Models (glm) analysis"
   ]
  },
  {
   "cell_type": "code",
   "execution_count": null,
   "metadata": {},
   "outputs": [],
   "source": [
    "# quasi-likelihood (QL) F-test\n",
    "\n",
    "fit <- glmQLFit(y, design, robust=TRUE) \n",
    "\n",
    "# quasi-likelihood (QL) F-test visualization\n",
    "\n",
    "jpeg(paste(\"../../Results/Figures/QL_F_test.jpg\"), width = 600, height = 600)\n",
    "plotQLDisp(fit)\n",
    "dev.off()\n",
    "#plotQLDisp(fit)"
   ]
  },
  {
   "cell_type": "code",
   "execution_count": null,
   "metadata": {},
   "outputs": [],
   "source": [
    "# Differential Expression test\n",
    "\n",
    "qlf = list()\n",
    "reg_res = list()    # regulation results\n",
    "FT_res = list()     # FTest results\n",
    "\n",
    "for (idx in 1:treat_count){\n",
    "    qlf[[idx]] <- glmQLFTest(fit, coef=(idx+1))\n",
    "    reg_res[[idx]] = as.data.frame(decideTests(qlf[[idx]], adjust.method = \"BH\", p.value = 0.05, lfc = 2))\n",
    "    colnames(reg_res[[idx]])[1] <- \"regulation\"\n",
    "    sum = summary(decideTests(qlf[[idx]], adjust.method = \"BH\", p.value = 0.05, lfc = 2))\n",
    "    print(sum)\n",
    "    write.csv(sum[c(1:3),], paste(\"../../Results/Enrichment_tabels/DE_test_sum\", idx, \".csv\", sep = \"_\"), row.names = TRUE)\n",
    "    FT_res[[idx]] = as.data.frame(topTags(qlf[[idx]], n=1000000))\n",
    "    remove(sum)\n",
    "}\n",
    "remove(fit)"
   ]
  },
  {
   "cell_type": "code",
   "execution_count": null,
   "metadata": {},
   "outputs": [],
   "source": [
    "# plotting fold changes\n",
    "\n",
    "for (idx in 1:treat_count){\n",
    "    jpeg(paste(\"../../Results/Figures/fold change\", idx, \".jpg\", sep = \"_\"), width = 600, height = 600)\n",
    "    plotMD(qlf[[idx]],main = \"\")\n",
    "    abline(h=c(-1, 1), col=\"blue\")\n",
    "    dev.off()\n",
    "}"
   ]
  },
  {
   "cell_type": "code",
   "execution_count": null,
   "metadata": {},
   "outputs": [],
   "source": [
    "# Creating differential expression output tables from\n",
    "# regulation anf FTest results\n",
    "\n",
    "final_df = list()\n",
    "\n",
    "for (idx in 1:treat_count){\n",
    "    FT_res[[idx]] <- cbind(ID = rownames(FT_res[[idx]]), FT_res[[idx]])\n",
    "    reg_res[[idx]] <- cbind(ID = rownames(reg_res[[idx]]), reg_res[[idx]])\n",
    "    merge_df = merge(reg_res[[idx]], FT_res[[idx]], by = 'ID')\n",
    "    colnames(merge_df)[3] <- \"EnsemblGeneID\"\n",
    "    final_df[[idx]] = subset(merge_df, merge_df$regulation!=0 )\n",
    "    remove(merge_df)\n",
    "}\n",
    "remove(FT_res)\n",
    "remove(reg_res)"
   ]
  },
  {
   "cell_type": "code",
   "execution_count": null,
   "metadata": {},
   "outputs": [],
   "source": [
    "# Gene annotation :"
   ]
  },
  {
   "cell_type": "code",
   "execution_count": null,
   "metadata": {},
   "outputs": [],
   "source": [
    "# Gene annotation\n",
    "\n",
    "for (idx in 1:treat_count){\n",
    "    keys = dplyr::pull(final_df[[idx]][\"EnsemblGeneID\"])\n",
    "    multiVals <- function(x) paste(x,collapse=\";\")\n",
    "    Symbol <- mapIds(org.Dm.eg.db, keys=keys, keytype=\"ENSEMBL\", column=\"SYMBOL\", multiVals=multiVals)\n",
    "    final_df[[idx]][\"symbol\"] <- data.frame(Symbol=Symbol, stringsAsFactors=FALSE)\n",
    "}\n"
   ]
  },
  {
   "cell_type": "code",
   "execution_count": null,
   "metadata": {},
   "outputs": [],
   "source": [
    "# Saving the differential expression analysis Results\n",
    "\n",
    "for (idx in 1:treat_count){\n",
    "    write.csv(final_df[[idx]], paste(\"../../Results/Enrichment_tabels/final_df\", idx, \".csv\", sep = \"_\"), row.names = FALSE)\n",
    "}\n"
   ]
  },
  {
   "cell_type": "code",
   "execution_count": null,
   "metadata": {},
   "outputs": [],
   "source": [
    "# Gene ontology (GO) and pathway analysis :"
   ]
  },
  {
   "cell_type": "code",
   "execution_count": null,
   "metadata": {},
   "outputs": [],
   "source": [
    "# data preparation for Gene ontology (GO) enrichment analysis\n",
    "\n",
    "go_list = list()\n",
    "\n",
    "for (idx in 1:treat_count){\n",
    "    go_list[[idx]] = final_df[[idx]][,\"PValue\"]\n",
    "    names(go_list[[idx]]) = final_df[[idx]][,\"symbol\"]\n",
    "}"
   ]
  },
  {
   "cell_type": "code",
   "execution_count": null,
   "metadata": {},
   "outputs": [],
   "source": [
    "# function that returns TRUE/FALSE for p-values<0.05\n",
    "test_func <- function(p_val){ return(p_val < 0.01)}\n",
    "\n",
    "# GO to Symbol mappings Using the org.Dm.eg.db annotations\n",
    "Dm <- annFUN.org(\"BP\", mapping = \"org.Dm.eg.db\", ID = \"symbol\")"
   ]
  },
  {
   "cell_type": "code",
   "execution_count": null,
   "metadata": {},
   "outputs": [],
   "source": [
    "# Performing GO enrichment analysis with both classic and\n",
    "# eliminating genes approach using Kolmogorov–Smirnov-like\n",
    "# statistic and aggregating the results in allRes table\n",
    "\n",
    "GOdata = list()\n",
    "go_res_cl_ks = list()\n",
    "go_res_elim_ks = list()\n",
    "allRes = list()\n",
    "\n",
    "for (idx in 1:treat_count){\n",
    "    GOdata[[idx]] <- new(\"topGOdata\", ontology = \"BP\", allGenes = go_list[[idx]], geneSelectionFun=test_func,\n",
    "                  GO2genes=Dm, nodeSize = 10, annot=annFUN.GO2genes)\n",
    "    go_res_cl_ks[[idx]] <- runTest(GOdata[[idx]], algorithm =\"classic\", statistic = \"ks\")\n",
    "    go_res_elim_ks[[idx]] <- runTest(GOdata[[idx]], algorithm=\"elim\", statistic=\"ks\")\n",
    "    allRes[[idx]] = GenTable(GOdata[[idx]], classicKS = go_res_cl_ks[[idx]], elimKS = go_res_elim_ks[[idx]],\n",
    "                      orderBy = \"elimKS\", ranksOf = \"classicKS\", topNodes = 150)\n",
    "}"
   ]
  },
  {
   "cell_type": "code",
   "execution_count": null,
   "metadata": {},
   "outputs": [],
   "source": [
    "# Saving the GO enrichment analysis Results\n",
    "\n",
    "for (idx in 1:treat_count){\n",
    "    print(GOdata[[idx]])\n",
    "    print(go_res_cl_ks[[idx]])\n",
    "    print(go_res_elim_ks[[idx]])\n",
    "    write.csv(allRes[[idx]], paste(\"../../Results/GO_tabels/allRes\", idx, \".csv\", sep = \"_\"), row.names = FALSE)\n",
    "}"
   ]
  },
  {
   "cell_type": "code",
   "execution_count": null,
   "metadata": {},
   "outputs": [],
   "source": [
    "# defining functions for visualization of GO enrichment analysis Results\n",
    "\n",
    "colMap <- function(x) {\n",
    "  .col <- rep(rev(heat.colors(length(unique(x)))), time = table(x))\n",
    "  return(.col[match(1:length(x), order(x))])\n",
    "}\n",
    "\n",
    "# visualization function\n",
    "visualize <- function(go_res_cl_ks,go_res_elim_ks,GOdata) {\n",
    "    \n",
    "    pValue.classic <- score(go_res_cl_ks)\n",
    "    pValue.elim <- score(go_res_elim_ks)[names(pValue.classic)]\n",
    "    gstat <- termStat(GOdata, names(pValue.classic))\n",
    "    gSize <- gstat$Annotated / max(gstat$Annotated) * 4\n",
    "    gCol <- colMap(gstat$Significant)\n",
    "    \n",
    "    jpeg(paste(\"../../Results/GO_figures/elim_vs_classic_methods_differences\", idx, \".jpg\", sep = \"_\"), width = 600, height = 600)\n",
    "    plot(pValue.classic, pValue.elim, xlab = \"p-value classic\", ylab = \"p-value elim\",\n",
    "         pch = 19, cex = gSize, col = gCol)\n",
    "    dev.off()\n",
    "    \n",
    "    \n",
    "    #showSigOfNodes(GOdata, score(go_res_cl_ks), firstSigNodes = 10, useInfo = 'all')\n",
    "    printGraph(GOdata, go_res_cl_ks, firstSigNodes = 10,\n",
    "               fn.prefix = paste(\"../../Results/GO_figures/classic_method_GO_graph\",\n",
    "                                 idx, sep = \"_\"),\n",
    "               useInfo = \"all\", pdfSW = TRUE)\n",
    "    \n",
    "    #showSigOfNodes(GOdata, score(go_res_elim_ks), firstSigNodes = 10, useInfo ='all')\n",
    "    printGraph(GOdata, go_res_elim_ks, firstSigNodes = 10,\n",
    "               fn.prefix = paste(\"../../Results/GO_figures/elim_method_GO_graph\",\n",
    "                                 idx, sep = \"_\"),\n",
    "               useInfo = \"all\", pdfSW = TRUE)\n",
    "}"
   ]
  },
  {
   "cell_type": "code",
   "execution_count": null,
   "metadata": {},
   "outputs": [],
   "source": [
    "# visualizing GO enrichment analysis Results\n",
    "\n",
    "for (idx in 1:treat_count){\n",
    "    visualize(go_res_cl_ks[[idx]],go_res_elim_ks[[idx]],GOdata[[idx]])\n",
    "}"
   ]
  },
  {
   "cell_type": "code",
   "execution_count": null,
   "metadata": {},
   "outputs": [],
   "source": [
    "# defining functions for extraction of significantly\n",
    "# enrichmented GO terms\n",
    "\n",
    "go_enrich_func <- function(result,GOdata,idx,sign) {\n",
    "    go_enrich <- GenTable(GOdata, KS=result, orderBy=\"KS\", topNodes=20)\n",
    "    #go_enrich <- go_enrich[go_enrich$KS<0.05,]\n",
    "    go_enrich <- go_enrich[,c(\"GO.ID\",\"Term\",\"KS\")]\n",
    "    go_enrich$KS <- as.numeric(go_enrich$KS)\n",
    "    write.csv(go_enrich, paste(\"../../Results/GO_enrich_terms/go_enrich\", sign, idx, \".csv\", sep = \"_\"), row.names = FALSE)\n",
    "    #print(go_enrich)\n",
    "}"
   ]
  },
  {
   "cell_type": "code",
   "execution_count": null,
   "metadata": {},
   "outputs": [],
   "source": [
    "# saving the significantly enrichmented GO terms\n",
    "\n",
    "for (idx in 1:treat_count){\n",
    "    go_enrich_func(go_res_cl_ks[[idx]],GOdata[[idx]],idx,sign=\"classic\")\n",
    "    go_enrich_func(go_res_elim_ks[[idx]],GOdata[[idx]],idx,sign=\"elim\")\n",
    "}"
   ]
  },
  {
   "cell_type": "code",
   "execution_count": null,
   "metadata": {},
   "outputs": [],
   "source": [
    "#END"
   ]
  }
 ],
 "metadata": {
  "kernelspec": {
   "display_name": "R",
   "language": "R",
   "name": "ir"
  },
  "language_info": {
   "codemirror_mode": "r",
   "file_extension": ".r",
   "mimetype": "text/x-r-source",
   "name": "R",
   "pygments_lexer": "r",
   "version": "3.6.3"
  }
 },
 "nbformat": 4,
 "nbformat_minor": 4
}

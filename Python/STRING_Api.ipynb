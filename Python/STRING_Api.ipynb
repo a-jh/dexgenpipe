{
 "cells": [
  {
   "cell_type": "code",
   "execution_count": null,
   "metadata": {},
   "outputs": [],
   "source": [
    "# Editor : AJ\n",
    "\n",
    "######### STRING API - Python implementation #########\n",
    "\n",
    "# Document and resource used : \n",
    "#\n",
    "#        -STRING API ref.\n",
    "#        -https://string-db.org/cgi/help.pl?subpage=api%23getting-the-string-network-interactions\n",
    "\n",
    "############\n",
    "# purpose : analysis of protein-protein interactions of genes by utilizing STRING database\n",
    "# parameters : csv files (containing EnsemblGeneID of the differentially expressed genes )\n",
    "# return value : \n",
    "#                  - Tabels of mapped EnsemblGene identifiers to the STRING identifiers\n",
    "#                  (containing queried EnsemblGeneIDs, STRING identifier, NCBI taxon identifier,\n",
    "#                  species name, common protein name and protein's annotation),\n",
    "#                  - STRING interaction network for identified proteins (Containing stringId_A (for protein A),\n",
    "#                  stringId_B for (protein B), common protein name (protein A), common protein name (protein B),\n",
    "#                  NCBI taxon identifier, combined score, gene neighborhood score, gene fusion score\n",
    "#                  phylogenetic profile score, coexpression score, experimental score, database score\n",
    "#                  and , textmining score)\n",
    "# details :\n",
    "#\n",
    "############"
   ]
  },
  {
   "cell_type": "code",
   "execution_count": null,
   "metadata": {},
   "outputs": [],
   "source": [
    "# import Libraries\n",
    "\n",
    "from pathlib import Path\n",
    "import pandas as pd\n",
    "import requests "
   ]
  },
  {
   "cell_type": "code",
   "execution_count": null,
   "metadata": {},
   "outputs": [],
   "source": [
    "# Creating related directories\n",
    "\n",
    "Path(\"../../Results/String/\").mkdir(parents=True, exist_ok=True)"
   ]
  },
  {
   "cell_type": "code",
   "execution_count": null,
   "metadata": {},
   "outputs": [],
   "source": [
    "'''\n",
    "Defining number of conditions (treatments), and intial\n",
    "STRING parameters\n",
    "'''\n",
    "\n",
    "treat_count = 3\n",
    "\n",
    "string_api_url = \"https://string-db.org/api\"\n",
    "#output_format = \"tsv-no-header\"\n",
    "output_format = \"tsv\"\n",
    "id_method = \"get_string_ids\"\n",
    "net_method = \"network\"\n",
    "\n",
    "NCBI_species_Id=7227"
   ]
  },
  {
   "cell_type": "code",
   "execution_count": null,
   "metadata": {},
   "outputs": [],
   "source": [
    "# Reading the data files\n",
    "\n",
    "gene_dfl = []\n",
    "gene_id = []\n",
    "symbol =[]\n",
    "\n",
    "for i in range(1,treat_count+1):\n",
    "    gene_df = pd.read_csv(\"../../Results/tabels/final_df_\" + str(i) + \"_.csv\")\n",
    "    gene_dfl.append(gene_df)\n",
    "    gene_id.append(gene_dfl[i-1].EnsemblGeneID)\n",
    "    symbol.append(gene_dfl[i-1].symbol)\n",
    "\n",
    "#del gene_df"
   ]
  },
  {
   "cell_type": "code",
   "execution_count": null,
   "metadata": {},
   "outputs": [],
   "source": [
    "## Set parameters for STRING api identifier Mapping \n",
    "\n",
    "lid_params = []\n",
    "\n",
    "for i in range(0,treat_count):\n",
    "    id_params = {\n",
    "        \"identifiers\" : \"\\r\".join(gene_id[i]), # your protein list\n",
    "        \"species\" : NCBI_species_Id, # species NCBI identifier \n",
    "        \"limit\" : 1, # only one (best) identifier per input protein\n",
    "        \"echo_query\" : 1, # see your input identifiers in the output\n",
    "        #\"caller_identity\" : \"app_name\" # your app name\n",
    "    }\n",
    "    lid_params.append(id_params)\n"
   ]
  },
  {
   "cell_type": "code",
   "execution_count": null,
   "metadata": {},
   "outputs": [],
   "source": [
    "## Define function to read and parse the results from identifier mapping api\n",
    "\n",
    "def string_res(result):\n",
    "    result_df = pd.DataFrame()\n",
    "    i = 0\n",
    "    for line in result.text.strip().split(\"\\n\"):\n",
    "        l = line.split(\"\\t\")\n",
    "        if i == 0 :\n",
    "            columns = l\n",
    "        else :\n",
    "            result_df = result_df.append([l], ignore_index=True)\n",
    "        i = 1\n",
    "    result_df.columns = columns\n",
    "    return result_df\n",
    "    "
   ]
  },
  {
   "cell_type": "code",
   "execution_count": null,
   "metadata": {},
   "outputs": [],
   "source": [
    "## Construct URL for STRING identifier mapping api request\n",
    "\n",
    "id_request_url = \"/\".join([string_api_url, output_format, id_method])\n",
    "\n",
    "## Call STRING\n",
    "\n",
    "lid_results = []\n",
    "lnet_results = []\n",
    "stringId = []\n",
    "\n",
    "for i in range(0,treat_count):\n",
    "    id_results = requests.post(id_request_url, data=lid_params[i])\n",
    "    lid_results.append(id_results)\n",
    "    stringId.append(string_res(lid_results[i])['stringId'])"
   ]
  },
  {
   "cell_type": "code",
   "execution_count": null,
   "metadata": {},
   "outputs": [],
   "source": [
    "## Set parameters for STRING's interaction network's api\n",
    "\n",
    "lnet_params = []\n",
    "\n",
    "for i in range(0,treat_count):\n",
    "    net_params = {\n",
    "        \"identifiers\" : \"%0d\".join(stringId[i]), # your protein list\n",
    "        \"species\" : NCBI_species_Id, # species NCBI identifier \n",
    "        #\"echo_query\" : 1, # see your input identifiers in the output\n",
    "        #\"caller_identity\" : \"app_name\" # your app name\n",
    "    }\n",
    "    lnet_params.append(net_params)"
   ]
  },
  {
   "cell_type": "code",
   "execution_count": null,
   "metadata": {},
   "outputs": [],
   "source": [
    "## Set parameters for STRING's interaction network's api\n",
    "\n",
    "net_request_url = \"/\".join([string_api_url, output_format, net_method])\n",
    "\n",
    "for i in range(0,treat_count):\n",
    "    net_results = requests.post(net_request_url, data=lnet_params[i])\n",
    "    lnet_results.append(net_results)"
   ]
  },
  {
   "cell_type": "code",
   "execution_count": null,
   "metadata": {},
   "outputs": [],
   "source": [
    "for i in range(0,treat_count):\n",
    "    string_res(lid_results[i]).to_csv('../../Results/String/string_id_res_' + str(i+1) +\n",
    "                                      '.tsv',sep='\\t',index=False)\n",
    "    string_res(lnet_results[i]).to_csv('../../Results/String/string_net_res_' + str(i+1) +\n",
    "                                       '.tsv',sep='\\t',index=False)"
   ]
  },
  {
   "cell_type": "code",
   "execution_count": null,
   "metadata": {},
   "outputs": [],
   "source": [
    "#END"
   ]
  }
 ],
 "metadata": {
  "kernelspec": {
   "display_name": "Python 3.7.6 64-bit ('Bioconda': conda)",
   "language": "python",
   "name": "python37664bitbiocondacondacdaeac7ec5d2498ea3f3001edef32d2a"
  },
  "language_info": {
   "codemirror_mode": {
    "name": "ipython",
    "version": 3
   },
   "file_extension": ".py",
   "mimetype": "text/x-python",
   "name": "python",
   "nbconvert_exporter": "python",
   "pygments_lexer": "ipython3",
   "version": "3.7.6"
  }
 },
 "nbformat": 4,
 "nbformat_minor": 4
}

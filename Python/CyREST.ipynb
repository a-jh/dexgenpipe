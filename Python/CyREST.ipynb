{
 "cells": [
  {
   "cell_type": "code",
   "execution_count": 1,
   "metadata": {},
   "outputs": [],
   "source": [
    "from py2cytoscape import cyrest\n",
    "from py2cytoscape.data.cyrest_client import CyRestClient\n",
    "\n",
    "import pandas as pd"
   ]
  },
  {
   "cell_type": "code",
   "execution_count": 2,
   "metadata": {},
   "outputs": [],
   "source": [
    "treat_count = 3"
   ]
  },
  {
   "cell_type": "code",
   "execution_count": 7,
   "metadata": {},
   "outputs": [],
   "source": [
    "# Reading the data files\n",
    "\n",
    "string_dfl = []\n",
    "prote_id = []\n",
    "\n",
    "for i in range(1,treat_count+1):\n",
    "    string_df = pd.read_csv(\"../../Results/String/string_net_res_\" + str(i) + \".tsv\", sep='\\t', header=0)\n",
    "    string_dfl.append(string_df)\n",
    "    prote_id.append(string_dfl[i-1].stringId_A)\n"
   ]
  },
  {
   "cell_type": "code",
   "execution_count": 9,
   "metadata": {},
   "outputs": [
    {
     "data": {
      "text/html": [
       "<div>\n",
       "<style scoped>\n",
       "    .dataframe tbody tr th:only-of-type {\n",
       "        vertical-align: middle;\n",
       "    }\n",
       "\n",
       "    .dataframe tbody tr th {\n",
       "        vertical-align: top;\n",
       "    }\n",
       "\n",
       "    .dataframe thead th {\n",
       "        text-align: right;\n",
       "    }\n",
       "</style>\n",
       "<table border=\"1\" class=\"dataframe\">\n",
       "  <thead>\n",
       "    <tr style=\"text-align: right;\">\n",
       "      <th></th>\n",
       "      <th>stringId_A</th>\n",
       "      <th>stringId_B</th>\n",
       "      <th>preferredName_A</th>\n",
       "      <th>preferredName_B</th>\n",
       "      <th>ncbiTaxonId</th>\n",
       "      <th>score</th>\n",
       "      <th>nscore</th>\n",
       "      <th>fscore</th>\n",
       "      <th>pscore</th>\n",
       "      <th>ascore</th>\n",
       "      <th>escore</th>\n",
       "      <th>dscore</th>\n",
       "      <th>tscore</th>\n",
       "    </tr>\n",
       "  </thead>\n",
       "  <tbody>\n",
       "    <tr>\n",
       "      <th>0</th>\n",
       "      <td>FBpp0070282</td>\n",
       "      <td>FBpp0070280</td>\n",
       "      <td>CG32808</td>\n",
       "      <td>Rab27</td>\n",
       "      <td>7227</td>\n",
       "      <td>0.900</td>\n",
       "      <td>0.0</td>\n",
       "      <td>0.0</td>\n",
       "      <td>0.0</td>\n",
       "      <td>0.000</td>\n",
       "      <td>0.050</td>\n",
       "      <td>0.9</td>\n",
       "      <td>0.000</td>\n",
       "    </tr>\n",
       "    <tr>\n",
       "      <th>1</th>\n",
       "      <td>FBpp0070412</td>\n",
       "      <td>FBpp0070365</td>\n",
       "      <td>Cyp4d1</td>\n",
       "      <td>CG3835</td>\n",
       "      <td>7227</td>\n",
       "      <td>0.654</td>\n",
       "      <td>0.0</td>\n",
       "      <td>0.0</td>\n",
       "      <td>0.0</td>\n",
       "      <td>0.069</td>\n",
       "      <td>0.046</td>\n",
       "      <td>0.0</td>\n",
       "      <td>0.642</td>\n",
       "    </tr>\n",
       "    <tr>\n",
       "      <th>2</th>\n",
       "      <td>FBpp0070417</td>\n",
       "      <td>FBpp0070365</td>\n",
       "      <td>ph-d</td>\n",
       "      <td>CG3835</td>\n",
       "      <td>7227</td>\n",
       "      <td>0.749</td>\n",
       "      <td>0.0</td>\n",
       "      <td>0.0</td>\n",
       "      <td>0.0</td>\n",
       "      <td>0.000</td>\n",
       "      <td>0.000</td>\n",
       "      <td>0.0</td>\n",
       "      <td>0.749</td>\n",
       "    </tr>\n",
       "    <tr>\n",
       "      <th>3</th>\n",
       "      <td>FBpp0070463</td>\n",
       "      <td>FBpp0070462</td>\n",
       "      <td>fs(1)Ya</td>\n",
       "      <td>fs(1)Yb</td>\n",
       "      <td>7227</td>\n",
       "      <td>0.522</td>\n",
       "      <td>0.0</td>\n",
       "      <td>0.0</td>\n",
       "      <td>0.0</td>\n",
       "      <td>0.184</td>\n",
       "      <td>0.000</td>\n",
       "      <td>0.0</td>\n",
       "      <td>0.439</td>\n",
       "    </tr>\n",
       "    <tr>\n",
       "      <th>4</th>\n",
       "      <td>FBpp0070483</td>\n",
       "      <td>FBpp0070072</td>\n",
       "      <td>N</td>\n",
       "      <td>sc</td>\n",
       "      <td>7227</td>\n",
       "      <td>0.846</td>\n",
       "      <td>0.0</td>\n",
       "      <td>0.0</td>\n",
       "      <td>0.0</td>\n",
       "      <td>0.000</td>\n",
       "      <td>0.000</td>\n",
       "      <td>0.0</td>\n",
       "      <td>0.846</td>\n",
       "    </tr>\n",
       "    <tr>\n",
       "      <th>...</th>\n",
       "      <td>...</td>\n",
       "      <td>...</td>\n",
       "      <td>...</td>\n",
       "      <td>...</td>\n",
       "      <td>...</td>\n",
       "      <td>...</td>\n",
       "      <td>...</td>\n",
       "      <td>...</td>\n",
       "      <td>...</td>\n",
       "      <td>...</td>\n",
       "      <td>...</td>\n",
       "      <td>...</td>\n",
       "      <td>...</td>\n",
       "    </tr>\n",
       "    <tr>\n",
       "      <th>4907</th>\n",
       "      <td>FBpp0306084</td>\n",
       "      <td>FBpp0292356</td>\n",
       "      <td>RhoGEF3</td>\n",
       "      <td>DAAM</td>\n",
       "      <td>7227</td>\n",
       "      <td>0.451</td>\n",
       "      <td>0.0</td>\n",
       "      <td>0.0</td>\n",
       "      <td>0.0</td>\n",
       "      <td>0.103</td>\n",
       "      <td>0.050</td>\n",
       "      <td>0.0</td>\n",
       "      <td>0.408</td>\n",
       "    </tr>\n",
       "    <tr>\n",
       "      <th>4908</th>\n",
       "      <td>FBpp0306084</td>\n",
       "      <td>FBpp0302896</td>\n",
       "      <td>RhoGEF3</td>\n",
       "      <td>esn</td>\n",
       "      <td>7227</td>\n",
       "      <td>0.461</td>\n",
       "      <td>0.0</td>\n",
       "      <td>0.0</td>\n",
       "      <td>0.0</td>\n",
       "      <td>0.000</td>\n",
       "      <td>0.270</td>\n",
       "      <td>0.0</td>\n",
       "      <td>0.293</td>\n",
       "    </tr>\n",
       "    <tr>\n",
       "      <th>4909</th>\n",
       "      <td>FBpp0306124</td>\n",
       "      <td>FBpp0087259</td>\n",
       "      <td>CG10062</td>\n",
       "      <td>etaTry</td>\n",
       "      <td>7227</td>\n",
       "      <td>0.436</td>\n",
       "      <td>0.0</td>\n",
       "      <td>0.0</td>\n",
       "      <td>0.0</td>\n",
       "      <td>0.000</td>\n",
       "      <td>0.000</td>\n",
       "      <td>0.0</td>\n",
       "      <td>0.436</td>\n",
       "    </tr>\n",
       "    <tr>\n",
       "      <th>4910</th>\n",
       "      <td>FBpp0306124</td>\n",
       "      <td>FBpp0087260</td>\n",
       "      <td>CG10062</td>\n",
       "      <td>zetaTry</td>\n",
       "      <td>7227</td>\n",
       "      <td>0.483</td>\n",
       "      <td>0.0</td>\n",
       "      <td>0.0</td>\n",
       "      <td>0.0</td>\n",
       "      <td>0.000</td>\n",
       "      <td>0.000</td>\n",
       "      <td>0.0</td>\n",
       "      <td>0.483</td>\n",
       "    </tr>\n",
       "    <tr>\n",
       "      <th>4911</th>\n",
       "      <td>FBpp0306124</td>\n",
       "      <td>FBpp0290879</td>\n",
       "      <td>CG10062</td>\n",
       "      <td>Try29F</td>\n",
       "      <td>7227</td>\n",
       "      <td>0.485</td>\n",
       "      <td>0.0</td>\n",
       "      <td>0.0</td>\n",
       "      <td>0.0</td>\n",
       "      <td>0.000</td>\n",
       "      <td>0.000</td>\n",
       "      <td>0.0</td>\n",
       "      <td>0.486</td>\n",
       "    </tr>\n",
       "  </tbody>\n",
       "</table>\n",
       "<p>4912 rows × 13 columns</p>\n",
       "</div>"
      ],
      "text/plain": [
       "       stringId_A   stringId_B preferredName_A preferredName_B  ncbiTaxonId  \\\n",
       "0     FBpp0070282  FBpp0070280         CG32808           Rab27         7227   \n",
       "1     FBpp0070412  FBpp0070365          Cyp4d1          CG3835         7227   \n",
       "2     FBpp0070417  FBpp0070365            ph-d          CG3835         7227   \n",
       "3     FBpp0070463  FBpp0070462         fs(1)Ya         fs(1)Yb         7227   \n",
       "4     FBpp0070483  FBpp0070072               N              sc         7227   \n",
       "...           ...          ...             ...             ...          ...   \n",
       "4907  FBpp0306084  FBpp0292356         RhoGEF3            DAAM         7227   \n",
       "4908  FBpp0306084  FBpp0302896         RhoGEF3             esn         7227   \n",
       "4909  FBpp0306124  FBpp0087259         CG10062          etaTry         7227   \n",
       "4910  FBpp0306124  FBpp0087260         CG10062         zetaTry         7227   \n",
       "4911  FBpp0306124  FBpp0290879         CG10062          Try29F         7227   \n",
       "\n",
       "      score  nscore  fscore  pscore  ascore  escore  dscore  tscore  \n",
       "0     0.900     0.0     0.0     0.0   0.000   0.050     0.9   0.000  \n",
       "1     0.654     0.0     0.0     0.0   0.069   0.046     0.0   0.642  \n",
       "2     0.749     0.0     0.0     0.0   0.000   0.000     0.0   0.749  \n",
       "3     0.522     0.0     0.0     0.0   0.184   0.000     0.0   0.439  \n",
       "4     0.846     0.0     0.0     0.0   0.000   0.000     0.0   0.846  \n",
       "...     ...     ...     ...     ...     ...     ...     ...     ...  \n",
       "4907  0.451     0.0     0.0     0.0   0.103   0.050     0.0   0.408  \n",
       "4908  0.461     0.0     0.0     0.0   0.000   0.270     0.0   0.293  \n",
       "4909  0.436     0.0     0.0     0.0   0.000   0.000     0.0   0.436  \n",
       "4910  0.483     0.0     0.0     0.0   0.000   0.000     0.0   0.483  \n",
       "4911  0.485     0.0     0.0     0.0   0.000   0.000     0.0   0.486  \n",
       "\n",
       "[4912 rows x 13 columns]"
      ]
     },
     "execution_count": 9,
     "metadata": {},
     "output_type": "execute_result"
    }
   ],
   "source": [
    "string_dfl[1]"
   ]
  },
  {
   "cell_type": "code",
   "execution_count": 6,
   "metadata": {},
   "outputs": [
    {
     "name": "stdout",
     "output_type": "stream",
     "text": [
      "CyREST online!\n"
     ]
    },
    {
     "ename": "TypeError",
     "evalue": "create() got an unexpected keyword argument 'edgeList'",
     "output_type": "error",
     "traceback": [
      "\u001b[0;31m---------------------------------------------------------------------------\u001b[0m",
      "\u001b[0;31mTypeError\u001b[0m                                 Traceback (most recent call last)",
      "\u001b[0;32m<ipython-input-6-a45abd095129>\u001b[0m in \u001b[0;36m<module>\u001b[0;34m\u001b[0m\n\u001b[1;32m     10\u001b[0m \u001b[0mcy\u001b[0m\u001b[0;34m.\u001b[0m\u001b[0msession\u001b[0m\u001b[0;34m.\u001b[0m\u001b[0mdelete\u001b[0m\u001b[0;34m(\u001b[0m\u001b[0;34m)\u001b[0m\u001b[0;34m\u001b[0m\u001b[0;34m\u001b[0m\u001b[0m\n\u001b[1;32m     11\u001b[0m \u001b[0;34m\u001b[0m\u001b[0m\n\u001b[0;32m---> 12\u001b[0;31m \u001b[0mcy\u001b[0m\u001b[0;34m.\u001b[0m\u001b[0mnetwork\u001b[0m\u001b[0;34m.\u001b[0m\u001b[0mcreate\u001b[0m\u001b[0;34m(\u001b[0m\u001b[0medgeList\u001b[0m\u001b[0;34m=\u001b[0m\u001b[0;32mNone\u001b[0m\u001b[0;34m,\u001b[0m \u001b[0mexcludeEdges\u001b[0m\u001b[0;34m=\u001b[0m\u001b[0;32mNone\u001b[0m\u001b[0;34m,\u001b[0m\u001b[0mnetworkName\u001b[0m\u001b[0;34m=\u001b[0m\u001b[0;32mNone\u001b[0m\u001b[0;34m,\u001b[0m \u001b[0mnodeList\u001b[0m\u001b[0;34m=\u001b[0m\u001b[0;32mNone\u001b[0m\u001b[0;34m,\u001b[0m \u001b[0msource\u001b[0m\u001b[0;34m=\u001b[0m\u001b[0;32mNone\u001b[0m\u001b[0;34m,\u001b[0m \u001b[0mverbose\u001b[0m\u001b[0;34m=\u001b[0m\u001b[0;32mFalse\u001b[0m\u001b[0;34m)\u001b[0m\u001b[0;34m\u001b[0m\u001b[0;34m\u001b[0m\u001b[0m\n\u001b[0m",
      "\u001b[0;31mTypeError\u001b[0m: create() got an unexpected keyword argument 'edgeList'"
     ]
    }
   ],
   "source": [
    "# Initial setting\n",
    "\n",
    "cytoscape=cyrest.cyclient()\n",
    "cytoscape.status()\n",
    "\n",
    "# Create REST client for Cytoscape\n",
    "cy = CyRestClient()\n",
    "\n",
    "# Reset current session for fresh start\n",
    "cy.session.delete()\n",
    "\n",
    "cy.network.create(edgeList=None, excludeEdges=None, networkName=None, nodeList=None, source=None, verbose=False)\n"
   ]
  },
  {
   "cell_type": "code",
   "execution_count": 3,
   "metadata": {},
   "outputs": [
    {
     "data": {
      "text/plain": [
       "'[{\"bundleName\":\"CyNDEx-2\",\"bundleSymbolicName\":\"org.cytoscape.cyndex2\",\"bundleVersion\":\"3.2.2\",\"bundleState\":32},{\"bundleName\":\"cyREST\",\"bundleSymbolicName\":\"org.cytoscape.rest.cy-rest\",\"bundleVersion\":\"3.11.0\",\"bundleState\":32},{\"bundleName\":\"clusterMaker2\",\"bundleSymbolicName\":\"clusterMaker2\",\"bundleVersion\":\"1.3.1\",\"bundleState\":32},{\"bundleName\":\"cyBrowser\",\"bundleSymbolicName\":\"cyBrowser\",\"bundleVersion\":\"1.2.3\",\"bundleState\":32},{\"bundleName\":\"JAX-RS Gson Provider\",\"bundleSymbolicName\":\"com.eclipsesource.jaxrs.provider.gson\",\"bundleVersion\":\"2.3.0.201506221200\",\"bundleState\":32},{\"bundleName\":\"Cytoscape Table Import Impl (table-import-impl)\",\"bundleSymbolicName\":\"org.cytoscape.table-import-impl\",\"bundleVersion\":\"3.8.0\",\"bundleState\":32},{\"bundleName\":\"Cytoscape Filters 2 Impl (filter2-impl)\",\"bundleSymbolicName\":\"org.cytoscape.filter2-impl\",\"bundleVersion\":\"3.8.0\",\"bundleState\":32},{\"bundleName\":\"Cytoscape Core Task Impl (core-task-impl)\",\"bundleSymbolicName\":\"org.cytoscape.core-task-impl\",\"bundleVersion\":\"3.8.0\",\"bundleState\":32},{\"bundleName\":\"ID Mapper\",\"bundleSymbolicName\":\"org.cytoscape.idmapper\",\"bundleVersion\":\"3.9.0\",\"bundleState\":32},{\"bundleName\":\"Cytoscape Swing Application Impl (swing-application-impl)\",\"bundleSymbolicName\":\"org.cytoscape.swing-application-impl\",\"bundleVersion\":\"3.8.0\",\"bundleState\":32},{\"bundleName\":\"Cytoscape Command Executor Impl (command-executor-impl)\",\"bundleSymbolicName\":\"org.cytoscape.command-executor-impl\",\"bundleVersion\":\"3.8.0\",\"bundleState\":32},{\"bundleName\":\"Cytoscape App Impl (app-impl)\",\"bundleSymbolicName\":\"org.cytoscape.app-impl\",\"bundleVersion\":\"3.8.0\",\"bundleState\":32},{\"bundleName\":\"Cytoscape Layout Impl (layout-impl)\",\"bundleSymbolicName\":\"org.cytoscape.layout-impl\",\"bundleVersion\":\"3.8.0\",\"bundleState\":32},{\"bundleName\":\"Diffusion\",\"bundleSymbolicName\":\"org.cytoscape.diffusion.cy-diffusion\",\"bundleVersion\":\"1.6.0\",\"bundleState\":32},{\"bundleName\":\"enhancedGraphics\",\"bundleSymbolicName\":\"enhancedGraphics\",\"bundleVersion\":\"1.5.4\",\"bundleState\":32},{\"bundleName\":\"cyChart\",\"bundleSymbolicName\":\"cyChart\",\"bundleVersion\":\"0.3.0\",\"bundleState\":32},{\"bundleName\":\"copycatLayout\",\"bundleSymbolicName\":\"copycatLayout\",\"bundleVersion\":\"1.3.1\",\"bundleState\":32},{\"bundleName\":\"Network Analyzer\",\"bundleSymbolicName\":\"org.cytoscape.analyzer\",\"bundleVersion\":\"4.4.5\",\"bundleState\":32},{\"bundleName\":\"stringApp\",\"bundleSymbolicName\":\"stringApp\",\"bundleVersion\":\"1.5.1\",\"bundleState\":32},{\"bundleName\":\"Network Merge\",\"bundleSymbolicName\":\"org.cytoscape.merge\",\"bundleVersion\":\"3.9.2\",\"bundleState\":32}]'"
      ]
     },
     "execution_count": 3,
     "metadata": {},
     "output_type": "execute_result"
    }
   ],
   "source": [
    "cytoscape.apps.getAppList(verbose=None)"
   ]
  },
  {
   "cell_type": "code",
   "execution_count": 4,
   "metadata": {},
   "outputs": [
    {
     "data": {
      "text/plain": [
       "'Available namespaces:\\n  analyzer\\n  apps\\n  cluster\\n  clusterdimreduce\\n  clusterrank\\n  clusterviz\\n  command\\n  cybrowser\\n  cychart\\n  diffusion\\n  edge\\n  enhancedGraphics\\n  filter\\n  group\\n  idmapper\\n  layout\\n  network\\n  node\\n  session\\n  string\\n  table\\n  view\\n  vizmap\\n'"
      ]
     },
     "execution_count": 4,
     "metadata": {},
     "output_type": "execute_result"
    }
   ],
   "source": [
    "cytoscape.commands.list_namespaces()"
   ]
  },
  {
   "cell_type": "code",
   "execution_count": 5,
   "metadata": {},
   "outputs": [
    {
     "data": {
      "text/plain": [
       "\"Available commands for 'string':\\n  add nodes\\n  change confidence\\n  compound query\\n  disease query\\n  expand\\n  filter enrichment\\n  hide charts\\n  hide glass\\n  hide images\\n  hide labels\\n  list species\\n  make string\\n  protein query\\n  pubmed query\\n  retrieve enrichment\\n  retrieve publications\\n  settings\\n  show charts\\n  show enrichment\\n  show images\\n  show publications\\n  stringify\\n  version\\n\""
      ]
     },
     "execution_count": 5,
     "metadata": {},
     "output_type": "execute_result"
    }
   ],
   "source": [
    "cytoscape.commands.namespace('string', verbose=False)"
   ]
  },
  {
   "cell_type": "code",
   "execution_count": 6,
   "metadata": {},
   "outputs": [
    {
     "data": {
      "text/plain": [
       "\"Available commands for 'cluster':\\n  ap\\n  autosome_heatmap\\n  autosome_network\\n  bestneighbor\\n  ccbicluster\\n  connectedcomponents\\n  cuttingedge\\n  dbscan\\n  density\\n  fcml\\n  featurevector\\n  fft\\n  fuzzifier\\n  getcluster\\n  getnetworkcluster\\n  glay\\n  haircut\\n  hascluster\\n  hierarchical\\n  hopach\\n  kmeans\\n  kmedoid\\n  mcl\\n  mcode\\n  pam\\n  scps\\n  transclust\\n\""
      ]
     },
     "execution_count": 6,
     "metadata": {},
     "output_type": "execute_result"
    }
   ],
   "source": [
    "cytoscape.commands.namespace('cluster', verbose=False)"
   ]
  },
  {
   "cell_type": "code",
   "execution_count": null,
   "metadata": {},
   "outputs": [],
   "source": []
  }
 ],
 "metadata": {
  "kernelspec": {
   "display_name": "Python 3",
   "language": "python",
   "name": "python3"
  },
  "language_info": {
   "codemirror_mode": {
    "name": "ipython",
    "version": 3
   },
   "file_extension": ".py",
   "mimetype": "text/x-python",
   "name": "python",
   "nbconvert_exporter": "python",
   "pygments_lexer": "ipython3",
   "version": "3.7.6"
  }
 },
 "nbformat": 4,
 "nbformat_minor": 4
}
